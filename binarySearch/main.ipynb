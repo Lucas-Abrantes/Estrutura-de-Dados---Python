{
 "cells": [
  {
   "cell_type": "markdown",
   "metadata": {},
   "source": [
    "#### Pesquisa binária"
   ]
  },
  {
   "cell_type": "code",
   "execution_count": 45,
   "metadata": {},
   "outputs": [],
   "source": [
    "def pesquisaBinaria(element, item):\n",
    "    baixo = 0\n",
    "    alto = len(element) - 1\n",
    "    while baixo <= alto:\n",
    "        meio = (alto + baixo)//2\n",
    "        chute = element[meio]\n",
    "        if(chute == item):\n",
    "            print(f'Elemento encontrado. Posição {meio}')\n",
    "            return meio\n",
    "        if(chute > item):\n",
    "            alto = meio - 1\n",
    "\n",
    "        else:\n",
    "            baixo = meio + 1\n",
    "\n",
    "    return None"
   ]
  },
  {
   "cell_type": "code",
   "execution_count": 48,
   "metadata": {},
   "outputs": [
    {
     "name": "stdout",
     "output_type": "stream",
     "text": [
      "None\n"
     ]
    }
   ],
   "source": [
    "# minha_lista = [1,2,3,4,5,0,6,7,8] --> ao colocar um valor 0 na lista, o código dará erro\n",
    "# pois a pesquisa binária requer uma lista ordenada\n",
    "\n",
    "minha_lista = [1,2,3,4,5,6,7,8]\n",
    "\n",
    "print(pesquisaBinaria(minha_lista, 0))"
   ]
  },
  {
   "cell_type": "code",
   "execution_count": 50,
   "metadata": {},
   "outputs": [],
   "source": [
    "resp = 0\n",
    "number = []\n",
    "while resp < 3:\n",
    "    x = int(input('Diga um valor'))\n",
    "    number.append(x)\n",
    "    resp+= 1"
   ]
  },
  {
   "cell_type": "code",
   "execution_count": 51,
   "metadata": {},
   "outputs": [
    {
     "data": {
      "text/plain": [
       "[2, 3, 4]"
      ]
     },
     "execution_count": 51,
     "metadata": {},
     "output_type": "execute_result"
    }
   ],
   "source": [
    "number"
   ]
  }
 ],
 "metadata": {
  "kernelspec": {
   "display_name": "Python 3",
   "language": "python",
   "name": "python3"
  },
  "language_info": {
   "codemirror_mode": {
    "name": "ipython",
    "version": 3
   },
   "file_extension": ".py",
   "mimetype": "text/x-python",
   "name": "python",
   "nbconvert_exporter": "python",
   "pygments_lexer": "ipython3",
   "version": "3.11.9"
  }
 },
 "nbformat": 4,
 "nbformat_minor": 2
}
