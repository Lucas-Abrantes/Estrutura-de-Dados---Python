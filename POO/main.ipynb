{
 "cells": [
  {
   "cell_type": "markdown",
   "metadata": {},
   "source": [
    "#### Métodos --> representam os compartamentos do objeto, isto é, as ações que ele pode realizar no sistema\n",
    "\n",
    "\n",
    "#### O método dunder __init__ é responsável por criar o objeto a partir da classe\n",
    "\n",
    "#### Métodos de instância --> trabalham diretamente com os valores da instância do objeto"
   ]
  },
  {
   "cell_type": "code",
   "execution_count": 7,
   "metadata": {},
   "outputs": [],
   "source": [
    "class Usuario:\n",
    "\n",
    "    def __init__(self, nome, descricao, valor):\n",
    "        self.__nome = nome\n",
    "        self.__descricao = descricao\n",
    "        self.__valor = valor\n",
    "    \n",
    "    def desconto(self, porcentagem):\n",
    "        print(f\"{self.__nome} vai pagar pelo {self.__descricao} um valor de {self.__valor *(100-porcentagem)/100}\")"
   ]
  },
  {
   "cell_type": "code",
   "execution_count": 8,
   "metadata": {},
   "outputs": [
    {
     "name": "stdout",
     "output_type": "stream",
     "text": [
      "lucas vai pagar pelo livro um valor de 25.0\n"
     ]
    }
   ],
   "source": [
    "objeto = Usuario('lucas', 'livro', 50)\n",
    "\n",
    "objeto.desconto(50)"
   ]
  },
  {
   "cell_type": "code",
   "execution_count": 15,
   "metadata": {},
   "outputs": [],
   "source": [
    "from passlib.hash import pbkdf2_sha256 as crypt\n",
    "\n",
    "\n",
    "class User:\n",
    "\n",
    "    def __init__(self, nome, sobrenome, email, senha):\n",
    "        self.__nome = nome\n",
    "        self.__sobrenome = sobrenome\n",
    "        self.__email = email\n",
    "        self.__senha = crypt.hash(senha, rounds=200000, salt_size=16)\n",
    "\n",
    "\n",
    "    def imprime_nome(self):\n",
    "        print(f\"Nome completo: {self.__nome, self.__sobrenome} \")\n",
    "\n",
    "\n",
    "    def verifica_senha(self, senha):\n",
    "        if(crypt.verify(senha, self.__senha)):\n",
    "            return True\n",
    "        return False"
   ]
  },
  {
   "cell_type": "code",
   "execution_count": 21,
   "metadata": {},
   "outputs": [
    {
     "name": "stdout",
     "output_type": "stream",
     "text": [
      "Acesso permitido\n",
      "Senha hash: $pbkdf2-sha256$200000$sFZqzfn/X4uxtpYSwtibMw$CWq/dbMMrBNKPwD4AUcYdriGs4linRk3u2Bjj1qGx1c\n"
     ]
    }
   ],
   "source": [
    "nome = input(\"Digite o seu nome: \")\n",
    "sobrenome = input(\"Digite o seu sobrenome: \")\n",
    "email = input(\"Digite o seu email: \")\n",
    "senha = input(\"Digite a senha: \")\n",
    "verifica_senha1 = input(\"Digite novamente: \")\n",
    "\n",
    "\n",
    "if senha == verifica_senha1:\n",
    "    user = User(nome, sobrenome, email, senha)\n",
    "else:\n",
    "    print(\"Senha não confere\")\n",
    "    exit(1)\n",
    "\n",
    "senha = input(\"Digite a senha para acessar: \")\n",
    "\n",
    "if user.verifica_senha(senha):\n",
    "    print(\"Acesso permitido\")\n",
    "else:\n",
    "    print(\"Acesso negado\")\n",
    "\n",
    "print(f\"Senha hash: {user._User__senha}\")\n"
   ]
  },
  {
   "cell_type": "markdown",
   "metadata": {},
   "source": [
    "##### Métodos de classe --> utiliza um decorador para acessar os valores da classe\n",
    "\n",
    "##### por padrão recebe como parâmetro um cls (significa classe)"
   ]
  },
  {
   "cell_type": "code",
   "execution_count": 38,
   "metadata": {},
   "outputs": [
    {
     "name": "stdout",
     "output_type": "stream",
     "text": [
      "Quantidade de clientes: 0\n",
      "lucas\n"
     ]
    },
    {
     "data": {
      "text/plain": [
       "'Seja bem-vindo(a)'"
      ]
     },
     "execution_count": 38,
     "metadata": {},
     "output_type": "execute_result"
    }
   ],
   "source": [
    "class User2:\n",
    "\n",
    "    contador = 0\n",
    "\n",
    "    # método estático, pois eu não estou acessando nenhum atributo\n",
    "    # da minha instância\n",
    "    @classmethod\n",
    "    def exibir_quantidade(cls):\n",
    "        print(f\"Quantidade de clientes: {cls.contador}\")\n",
    "\n",
    "\n",
    "    def __init__(self, nome, sobrenome, email):\n",
    "        self.__nome = nome\n",
    "        self.__sobrenome = sobrenome\n",
    "        self.__email = email\n",
    "    \n",
    "\n",
    "    def __gera_usuario(self):\n",
    "        return self.__email.split(\"@\")[0]\n",
    "    \n",
    "\n",
    "    @staticmethod\n",
    "    def mensagem():\n",
    "        return \"Seja bem-vindo(a)\"\n",
    "    \n",
    "\n",
    "usuario = User2('lucas', 'abrantes', 'lucas@gmail.com')\n",
    "\n",
    "User2.exibir_quantidade()\n",
    "print(usuario._User2__gera_usuario()) # forma ruim para acessar um método privado\n",
    "User2.mensagem()"
   ]
  },
  {
   "cell_type": "markdown",
   "metadata": {},
   "source": [
    "### Objetos --> são instâncias da classe"
   ]
  },
  {
   "cell_type": "markdown",
   "metadata": {},
   "source": [
    "#### Abstração --> é o ato de expor apenas dados relevantes de uma classe, encondendo atributos e métodos privados.\n",
    "\n",
    "#### Encapsulamento --> estruturar todo o código em um grupo hierárquico e lógico utilizando classes"
   ]
  },
  {
   "cell_type": "markdown",
   "metadata": {},
   "source": [
    "#### Herança --> a ideia de herança é aproveitar código e extender classes\n",
    "\n",
    "\n",
    ". A classe principal é conhecima como classe pai ou super classe;\n",
    "\n",
    ". A classe que herda de outra classe pe chamada de sub classe ou classe filha."
   ]
  },
  {
   "cell_type": "code",
   "execution_count": 18,
   "metadata": {},
   "outputs": [
    {
     "name": "stdout",
     "output_type": "stream",
     "text": [
      "Nome: lucas. Sobrenome: breno\n",
      "Cliente: lucas\n",
      "Nome: Mateus. Sobrenome: nobre\n"
     ]
    }
   ],
   "source": [
    "class Pessoa:\n",
    "\n",
    "    def __init__(self, nome, sobrenome, cpf):\n",
    "        self.__nome = nome\n",
    "        self.__sobrenome = sobrenome\n",
    "        self.__cpf = cpf\n",
    "\n",
    "    \n",
    "    def nome_completo(self):\n",
    "        return f\"Nome: {self.__nome}. Sobrenome: {self.__sobrenome}\"\n",
    "\n",
    "\n",
    "\n",
    "class Funcionario(Pessoa):\n",
    "\n",
    "    def __init__(self,nome, sobrenome, cpf, matricula):\n",
    "        super().__init__(nome, sobrenome, cpf)\n",
    "        self.__matricula = matricula\n",
    "    \n",
    "\n",
    "class Cliente(Pessoa):\n",
    "\n",
    "    def __init__(self, nome, sobrenome, cpf, renda):\n",
    "        super().__init__(nome, sobrenome, cpf)\n",
    "        self.__renda = renda\n",
    "\n",
    "    def nome_completo(self):\n",
    "        print(super().nome_completo())\n",
    "        return f\"Cliente: {self._Pessoa__nome}\"\n",
    "\n",
    "\n",
    "func1 = Cliente('lucas', 'breno', '123456-45', 1200)\n",
    "func2 = Funcionario('Mateus', 'nobre', '4563111-89', 1230)\n",
    "\n",
    "print(func1.nome_completo())\n",
    "print(func2.nome_completo())"
   ]
  },
  {
   "cell_type": "markdown",
   "metadata": {},
   "source": [
    "#### Propriedades (get e set) --> esses elementos permitem realizar operações com o atributos, ou seja, evitando que o usuário acesse atributos privados diretamente da classe"
   ]
  },
  {
   "cell_type": "code",
   "execution_count": 23,
   "metadata": {},
   "outputs": [],
   "source": [
    "class Conta:\n",
    "\n",
    "    contador = 0\n",
    "\n",
    "    def __init__(self, titular, saldo, limite):\n",
    "        self.__numero = Conta.contador + 1\n",
    "        self.__titular = titular\n",
    "        self.__saldo = saldo\n",
    "        self.__limite = limite\n",
    "    \n",
    "\n",
    "    def extrato(self):\n",
    "        return f\"Saldo de {self.__saldo} do cliente {self.__titular}\"\n",
    "    \n",
    "\n",
    "    def depositar(self, valor):\n",
    "        self.__saldo += valor\n",
    "    \n",
    "\n",
    "    def sacar(self, valor):\n",
    "        self.__saldo -= valor\n",
    "\n",
    "\n",
    "    def transferir(self, valor, destino):\n",
    "        self.__saldo += valor\n",
    "        destino.__saldo += valor\n",
    "    \n",
    "\n",
    "    def get_numero(self):\n",
    "        return self.__numero\n",
    "    \n",
    "\n",
    "    def get_titular(self):\n",
    "        return self.__titular\n",
    "    \n",
    "\n",
    "    def get_saldo(self):\n",
    "        return self.__saldo\n",
    "    \n",
    "\n",
    "    def get_limite(self):\n",
    "        return self.__limite\n",
    "    \n",
    "    def set_limite(self, limite):\n",
    "        self.__limite = limite"
   ]
  },
  {
   "cell_type": "code",
   "execution_count": 24,
   "metadata": {},
   "outputs": [
    {
     "data": {
      "text/plain": [
       "'Lucas'"
      ]
     },
     "execution_count": 24,
     "metadata": {},
     "output_type": "execute_result"
    }
   ],
   "source": [
    "conta1 = Conta('Lucas', 200, 500)\n",
    "\n",
    "conta1.get_titular()\n"
   ]
  },
  {
   "cell_type": "code",
   "execution_count": 25,
   "metadata": {},
   "outputs": [
    {
     "name": "stdout",
     "output_type": "stream",
     "text": [
      "{'_Conta__numero': 1, '_Conta__titular': 'Lucas', '_Conta__saldo': 200, '_Conta__limite': 9999}\n"
     ]
    }
   ],
   "source": [
    "conta1.set_limite(9999)\n",
    "print(conta1.__dict__)"
   ]
  },
  {
   "cell_type": "markdown",
   "metadata": {},
   "source": [
    "#### O Python utiliza uma outra forma para getters e setters"
   ]
  },
  {
   "cell_type": "code",
   "execution_count": 29,
   "metadata": {},
   "outputs": [],
   "source": [
    "class Conta:\n",
    "\n",
    "    contador = 0\n",
    "\n",
    "    def __init__(self, titular, saldo, limite):\n",
    "        self.__numero = Conta.contador + 1\n",
    "        self.__titular = titular\n",
    "        self.__saldo = saldo\n",
    "        self.__limite = limite\n",
    "    \n",
    "\n",
    "    @property\n",
    "    def titular(self):\n",
    "        return self.__titular\n",
    "    \n",
    "    @property #por padrão é um get\n",
    "    def saldo(self):\n",
    "        return self.__saldo\n",
    "    \n",
    "\n",
    "    @property\n",
    "    def soma_total(self):\n",
    "        return self.__saldo + self.__limite\n",
    "\n",
    "    @property\n",
    "    def limite(self):\n",
    "        return self.__limite\n",
    "    \n",
    "\n",
    "    @limite.setter\n",
    "    def limite(self, novo_Limite):\n",
    "        self.__limite = novo_Limite\n",
    "\n",
    "\n",
    "    def extrato(self):\n",
    "        return f\"Saldo de {self.__saldo} do cliente {self.__titular}\"\n",
    "    \n",
    "\n",
    "    def depositar(self, valor):\n",
    "        self.__saldo += valor\n",
    "    \n",
    "\n",
    "    def sacar(self, valor):\n",
    "        self.__saldo -= valor\n",
    "\n",
    "\n",
    "    def transferir(self, valor, destino):\n",
    "        self.__saldo += valor\n",
    "        destino.__saldo += valor"
   ]
  },
  {
   "cell_type": "code",
   "execution_count": 30,
   "metadata": {},
   "outputs": [
    {
     "data": {
      "text/plain": [
       "'Lucas'"
      ]
     },
     "execution_count": 30,
     "metadata": {},
     "output_type": "execute_result"
    }
   ],
   "source": [
    "conta1 = Conta('Lucas', 200, 500)\n",
    "\n",
    "conta1.titular # como trata-se de uma propriedade, os parênteses não são necessários"
   ]
  },
  {
   "cell_type": "code",
   "execution_count": 31,
   "metadata": {},
   "outputs": [
    {
     "data": {
      "text/plain": [
       "700"
      ]
     },
     "execution_count": 31,
     "metadata": {},
     "output_type": "execute_result"
    }
   ],
   "source": [
    "conta1.soma_total"
   ]
  },
  {
   "cell_type": "markdown",
   "metadata": {},
   "source": [
    "#### Herança Múltipla --> uma classe herda de múltiplas classes"
   ]
  },
  {
   "cell_type": "code",
   "execution_count": null,
   "metadata": {},
   "outputs": [],
   "source": [
    "# Multiderivação direta\n",
    "\n",
    "\n",
    "class Base1:\n",
    "    pass\n",
    "\n",
    "class Base2:\n",
    "    pass\n",
    "\n",
    "class Base3:\n",
    "    pass\n",
    "\n",
    "class MultiVariada(Base1, Base2, Base3):\n",
    "    pass\n"
   ]
  },
  {
   "cell_type": "code",
   "execution_count": null,
   "metadata": {},
   "outputs": [],
   "source": [
    "# Multiderivação indireta\n",
    "\n",
    "class Base1:\n",
    "    pass\n",
    "\n",
    "class Base2(Base1):\n",
    "    pass\n",
    "\n",
    "class Base3(Base2):\n",
    "    pass\n",
    "\n",
    "class MultiVariada(Base3):\n",
    "    pass"
   ]
  },
  {
   "cell_type": "code",
   "execution_count": 9,
   "metadata": {},
   "outputs": [],
   "source": [
    "class Animal:\n",
    "\n",
    "    def __init__(self, nome):\n",
    "        self.__nome = nome\n",
    "    \n",
    "\n",
    "    def cumprimentar(self):\n",
    "        return f\"Eu sou {self.__nome}\"\n",
    "    \n",
    "\n",
    "class AnimalAquatico(Animal):\n",
    "\n",
    "    def __init__(self, nome):\n",
    "        super().__init__(nome)\n",
    "    \n",
    "    def nadar(self):\n",
    "        return \"{self._Animal__nome} está nadando\"\n",
    "    \n",
    "    def cumprimentar(self):\n",
    "        return f\"{self._Animal__nome} é um animal da água\"\n",
    "    \n",
    "\n",
    "class AnimalTerrestre(Animal):\n",
    "\n",
    "    def __init__(self, nome):\n",
    "        super().__init__(nome)\n",
    "    \n",
    "    def andar(self):\n",
    "        return f\"{self._Animal__nome} está andando\"\n",
    "    \n",
    "    def cumprimentar(self):\n",
    "        return f\"Eu sou {self._Animal__nome} um animal da terra\"\n",
    "    \n",
    "\n",
    "# MRO --> METHOD RESOLUTION ORDER. A ordem com que as classes são inseridas\n",
    "# alteram as ações do programa\n",
    "    \n",
    "class Selvagem(AnimalAquatico, AnimalTerrestre):\n",
    "\n",
    "    def __init__(self, nome):\n",
    "        super().__init__(nome)"
   ]
  },
  {
   "cell_type": "code",
   "execution_count": 10,
   "metadata": {},
   "outputs": [
    {
     "data": {
      "text/plain": [
       "'lion é um animal da água'"
      ]
     },
     "execution_count": 10,
     "metadata": {},
     "output_type": "execute_result"
    }
   ],
   "source": [
    "animal = Selvagem(\"lion\")\n",
    "animal.cumprimentar()"
   ]
  },
  {
   "cell_type": "markdown",
   "metadata": {},
   "source": [
    "#### Polimorfismo"
   ]
  }
 ],
 "metadata": {
  "kernelspec": {
   "display_name": "Python 3",
   "language": "python",
   "name": "python3"
  },
  "language_info": {
   "codemirror_mode": {
    "name": "ipython",
    "version": 3
   },
   "file_extension": ".py",
   "mimetype": "text/x-python",
   "name": "python",
   "nbconvert_exporter": "python",
   "pygments_lexer": "ipython3",
   "version": "3.11.6"
  }
 },
 "nbformat": 4,
 "nbformat_minor": 2
}
