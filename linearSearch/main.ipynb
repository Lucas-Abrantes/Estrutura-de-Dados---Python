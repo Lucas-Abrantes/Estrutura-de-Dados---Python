{
 "cells": [
  {
   "cell_type": "code",
   "execution_count": 9,
   "metadata": {},
   "outputs": [],
   "source": [
    "def linearSearch(elemet, query):\n",
    "    position = 0\n",
    "    \n",
    "    while True:\n",
    "        \n",
    "        if(elemet[position] == query):\n",
    "            return elemet[position]\n",
    "        position += 1\n",
    "        \n",
    "        if position == len(elemet):\n",
    "            return -1"
   ]
  },
  {
   "cell_type": "code",
   "execution_count": 10,
   "metadata": {},
   "outputs": [
    {
     "name": "stdout",
     "output_type": "stream",
     "text": [
      "-1\n"
     ]
    }
   ],
   "source": [
    "lista = [1,2,3,4]\n",
    "print(linearSearch(lista, 10))"
   ]
  }
 ],
 "metadata": {
  "kernelspec": {
   "display_name": "Python 3",
   "language": "python",
   "name": "python3"
  },
  "language_info": {
   "codemirror_mode": {
    "name": "ipython",
    "version": 3
   },
   "file_extension": ".py",
   "mimetype": "text/x-python",
   "name": "python",
   "nbconvert_exporter": "python",
   "pygments_lexer": "ipython3",
   "version": "3.11.9"
  }
 },
 "nbformat": 4,
 "nbformat_minor": 2
}
